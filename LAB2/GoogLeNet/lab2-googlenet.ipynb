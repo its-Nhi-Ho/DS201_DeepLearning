{
 "cells": [
  {
   "cell_type": "code",
   "execution_count": 1,
   "id": "b58dac9e",
   "metadata": {
    "execution": {
     "iopub.execute_input": "2025-10-30T03:54:47.532326Z",
     "iopub.status.busy": "2025-10-30T03:54:47.532029Z",
     "iopub.status.idle": "2025-10-30T03:54:47.538789Z",
     "shell.execute_reply": "2025-10-30T03:54:47.538286Z"
    },
    "papermill": {
     "duration": 0.01127,
     "end_time": "2025-10-30T03:54:47.539892",
     "exception": false,
     "start_time": "2025-10-30T03:54:47.528622",
     "status": "completed"
    },
    "tags": []
   },
   "outputs": [],
   "source": [
    "import os\n",
    "\n",
    "os.makedirs(\"/kaggle/working/dl\", exist_ok = True)\n",
    "\n",
    "for fname in [\n",
    "    \"VinaFood.py\",\n",
    "    \"Inception_Blocks.py\",\n",
    "    \"GoogLeNet.py\",\n",
    "    \"main_googlenet.py\"\n",
    "]:\n",
    "  open(f\"/kaggle/working/dl/{fname}\", \"w\").close()"
   ]
  },
  {
   "cell_type": "markdown",
   "id": "47d9be07",
   "metadata": {
    "papermill": {
     "duration": 0.002104,
     "end_time": "2025-10-30T03:54:47.544212",
     "exception": false,
     "start_time": "2025-10-30T03:54:47.542108",
     "status": "completed"
    },
    "tags": []
   },
   "source": [
    "## Câu 2: GoogLeNet"
   ]
  },
  {
   "cell_type": "code",
   "execution_count": 2,
   "id": "07b1b7dd",
   "metadata": {
    "execution": {
     "iopub.execute_input": "2025-10-30T03:54:47.549009Z",
     "iopub.status.busy": "2025-10-30T03:54:47.548447Z",
     "iopub.status.idle": "2025-10-30T03:54:47.554144Z",
     "shell.execute_reply": "2025-10-30T03:54:47.553553Z"
    },
    "papermill": {
     "duration": 0.009343,
     "end_time": "2025-10-30T03:54:47.555427",
     "exception": false,
     "start_time": "2025-10-30T03:54:47.546084",
     "status": "completed"
    },
    "tags": []
   },
   "outputs": [
    {
     "name": "stdout",
     "output_type": "stream",
     "text": [
      "Overwriting /kaggle/working/dl/VinaFood.py\n"
     ]
    }
   ],
   "source": [
    "%%writefile /kaggle/working/dl/VinaFood.py\n",
    "import torch\n",
    "from torch.utils.data import Dataset\n",
    "from pathlib import Path # xử lý đường dẫn\n",
    "from PIL import Image # đọc ảnh\n",
    "import os\n",
    "\n",
    "def collate_fn(samples: list[dict]) -> torch.Tensor:\n",
    "  images = [sample[\"image\"] for sample in samples]\n",
    "  labels = [sample[\"label\"] for sample in samples]\n",
    "\n",
    "  images = torch.cat(images, dim = 0) # Ghép các tensor [1, 3, H, W] lại thành [bs, 3, H, W]\n",
    "  labels = torch.tensor(labels) # Chuyển list các label (số) [0, 1, 2, 0] thành tensor [bs]\n",
    "\n",
    "  return {\n",
    "      \"image\": images,\n",
    "      \"label\": labels\n",
    "  }\n",
    "\n",
    "class VinaFood(Dataset):\n",
    "  def __init__(self, image_path: str, transform = None):\n",
    "    super().__init__()\n",
    "\n",
    "    self.root_dir = Path(image_path)\n",
    "    self.transform = transform\n",
    "\n",
    "    # 1. Lấy danh sách tên thư mục con\n",
    "    # Sắp xếp thứ tự\n",
    "    self.classes = sorted([d.name for d in self.root_dir.iterdir() if d.is_dir()])\n",
    "\n",
    "    # 2. Tạo map từ labels sang số\n",
    "    self.class_to_idx = {\n",
    "        cls_name: i for i, cls_name in enumerate(self.classes)\n",
    "    }\n",
    "\n",
    "    # 3. Quét toàn bộ thư mục để lấy đường dẫn ảnh và nhãn tương ứng\n",
    "    self.samples = []\n",
    "\n",
    "    for class_name in self.classes:\n",
    "      class_idx = self.class_to_idx[class_name] # lấy số\n",
    "      class_dir = self.root_dir / class_name\n",
    "\n",
    "      # Lặp qua các file trong thư mục clas đó\n",
    "      for img_path in class_dir.iterdir():\n",
    "        self.samples.append((img_path,class_idx))\n",
    "\n",
    "  def __len__(self) -> int:\n",
    "    return len(self.samples)\n",
    "\n",
    "  def __getitem__(self, idx) -> dict:\n",
    "    # Lấy đường dẫn và nhãn qua index\n",
    "    img_path, label = self.samples[idx]\n",
    "\n",
    "    # Đọc ảnh\n",
    "    image = Image.open(img_path).convert(\"RGB\")\n",
    "\n",
    "    # Áp dụng transform nếu có\n",
    "    if self.transform:\n",
    "      image = self.transform(image)\n",
    "\n",
    "    if isinstance(image, torch.Tensor):\n",
    "      image = image.unsqueeze(0)\n",
    "\n",
    "    return {\n",
    "        \"image\": image,\n",
    "        \"label\": label\n",
    "    }"
   ]
  },
  {
   "cell_type": "code",
   "execution_count": 3,
   "id": "4936a84b",
   "metadata": {
    "execution": {
     "iopub.execute_input": "2025-10-30T03:54:47.560182Z",
     "iopub.status.busy": "2025-10-30T03:54:47.559749Z",
     "iopub.status.idle": "2025-10-30T03:54:47.564785Z",
     "shell.execute_reply": "2025-10-30T03:54:47.563993Z"
    },
    "papermill": {
     "duration": 0.008554,
     "end_time": "2025-10-30T03:54:47.565950",
     "exception": false,
     "start_time": "2025-10-30T03:54:47.557396",
     "status": "completed"
    },
    "tags": []
   },
   "outputs": [
    {
     "name": "stdout",
     "output_type": "stream",
     "text": [
      "Overwriting /kaggle/working/dl/Inception_Blocks.py\n"
     ]
    }
   ],
   "source": [
    "%%writefile /kaggle/working/dl/Inception_Blocks.py\n",
    "import torch\n",
    "from torch import nn\n",
    "\n",
    "class Inception_Blocks(nn.Module):\n",
    "  def __init__(self, in_channels,\n",
    "               out_1x1,\n",
    "               out_3x3_reduce, out_3x3,\n",
    "               out_5x5_reduce, out_5x5,\n",
    "               out_pool_proj):\n",
    "      super().__init__()\n",
    "\n",
    "      # Nhánh trái\n",
    "      self.branch1 = nn.Sequential(\n",
    "          nn.Conv2d(in_channels,out_1x1,\n",
    "          kernel_size = (1,1)),\n",
    "          nn.ReLU(inplace = True)\n",
    "          )\n",
    "\n",
    "      # Nhánh 2: 1x1 Conv (reduce) -> 3x3 Conv\n",
    "      self.branch2 = nn.Sequential(\n",
    "          # Lớp 1x1\n",
    "          nn.Conv2d(in_channels,out_3x3_reduce, kernel_size = (1,1)),\n",
    "          nn.ReLU(inplace=True),\n",
    "\n",
    "          # Lớp 3x3\n",
    "          nn.Conv2d(out_3x3_reduce, out_3x3, kernel_size = (3,3), padding=1),\n",
    "          nn.ReLU(inplace=True)\n",
    "      )\n",
    "\n",
    "      # Nhánh 3: 1x1 Conv (reduce) -> 5x5 Conv\n",
    "      self.branch3 = nn.Sequential(\n",
    "          # Lớp 1x1\n",
    "          nn.Conv2d(in_channels,out_5x5_reduce, kernel_size = (1,1)),\n",
    "          nn.ReLU(inplace=True),\n",
    "\n",
    "          # Lớp 5x5\n",
    "          nn.Conv2d(out_5x5_reduce, out_5x5, kernel_size = (5,5), padding =2),\n",
    "          nn.ReLU(inplace=True)\n",
    "      )\n",
    "\n",
    "      # Nhánh phải\n",
    "      self.branch4 = nn.Sequential(\n",
    "          # MaxPool\n",
    "          nn.MaxPool2d(kernel_size = (3,3), stride=1, padding=1),\n",
    "          nn.Conv2d(in_channels,out_pool_proj,\n",
    "          kernel_size = (1,1)),\n",
    "          nn.ReLU(inplace=True)\n",
    "          )\n",
    "\n",
    "  def forward(self, features: torch.Tensor):\n",
    "    b1_out = self.branch1(features)\n",
    "    b2_out = self.branch2(features)\n",
    "    b3_out = self.branch3(features)\n",
    "    b4_out = self.branch4(features)\n",
    "\n",
    "    # Gộp các nhánh lại theo chiều channel (dim=1)\n",
    "    return torch.cat([b1_out, b2_out, b3_out, b4_out], dim=1)"
   ]
  },
  {
   "cell_type": "code",
   "execution_count": 4,
   "id": "79aab2da",
   "metadata": {
    "execution": {
     "iopub.execute_input": "2025-10-30T03:54:47.571080Z",
     "iopub.status.busy": "2025-10-30T03:54:47.570875Z",
     "iopub.status.idle": "2025-10-30T03:54:47.576266Z",
     "shell.execute_reply": "2025-10-30T03:54:47.575569Z"
    },
    "papermill": {
     "duration": 0.009288,
     "end_time": "2025-10-30T03:54:47.577345",
     "exception": false,
     "start_time": "2025-10-30T03:54:47.568057",
     "status": "completed"
    },
    "tags": []
   },
   "outputs": [
    {
     "name": "stdout",
     "output_type": "stream",
     "text": [
      "Overwriting /kaggle/working/dl/GoogLeNet.py\n"
     ]
    }
   ],
   "source": [
    "%%writefile /kaggle/working/dl/GoogLeNet.py\n",
    "import torch\n",
    "from torch import nn\n",
    "from Inception_Blocks import Inception_Blocks as ib \n",
    "\n",
    "class GoogLeNet(nn.Module):\n",
    "  def __init__(self, in_channels, num_classes):\n",
    "    super().__init__()\n",
    "\n",
    "    # Các lớp đầu tiên\n",
    "    self.stem = nn.Sequential(\n",
    "        # conv (7x7/2, out 64)\n",
    "        nn.Conv2d(in_channels, 64, kernel_size = (7,7), stride = 2, padding =3),\n",
    "        nn.ReLU(inplace=True),\n",
    "\n",
    "        # maxpool (3x3/2)\n",
    "        nn.MaxPool2d(kernel_size=(3,3), stride = 2),\n",
    "\n",
    "        # 1x1 (out64) và 3x3 (out192)\n",
    "        nn.Conv2d(64, 64, kernel_size=1, stride=1), # 1x1 reduce\n",
    "        nn.ReLU(inplace=True),\n",
    "        nn.Conv2d(64, 192, kernel_size=(3,3), stride=1, padding=1), # 3x3\n",
    "        nn.ReLU(inplace=True),\n",
    "\n",
    "        # Dòng 4: max pool (3x3/2)\n",
    "        nn.MaxPool2d(kernel_size= (3,3), stride=2, padding=1)\n",
    "    )\n",
    "    # Output của stem: [bs, 192, 28, 28]\n",
    "    # Khối inception\n",
    "    # in_channels=192\n",
    "    self.inception_3a = ib(192, 64, 96, 128, 16, 32, 32) # out=256 \n",
    "    self.inception_3b = ib(256, 128, 128, 192, 32, 96, 64) # out=480 \n",
    "    self.pool_3 = nn.MaxPool2d(kernel_size=3, stride=2, padding=1)\n",
    "    # Output: [B, 480, 14, 14]\n",
    "\n",
    "    # in_channels=480\n",
    "    self.inception_4a = ib(480, 192, 96, 208, 16, 48, 64) # out=512 \n",
    "    self.inception_4b = ib(512, 160, 112, 224, 24, 64, 64) # out=512 \n",
    "    self.inception_4c = ib(512, 128, 128, 256, 24, 64, 64) # out=512 \n",
    "    self.inception_4d = ib(512, 112, 144, 288, 32, 64, 64) # out=528 \n",
    "    self.inception_4e = ib(528, 256, 160, 320, 32, 128, 128) # out=832 \n",
    "    self.pool_4 = nn.MaxPool2d(kernel_size=3, stride=2, padding=1)\n",
    "    # Output: [B, 832, 7, 7]\n",
    "\n",
    "    # in_channels=832\n",
    "    self.inception_5a = ib(832, 256, 160, 320, 32, 128, 128) # out=832 <-- ĐÃ SỬA\n",
    "    self.inception_5b = ib(832, 384, 192, 384, 48, 128, 128) # out=1024 <-- ĐÃ SỬA\n",
    "    # Output: [B, 1024, 7, 7]\n",
    "\n",
    "    # Phần cuối\n",
    "    self.avg_pool = nn.AdaptiveAvgPool2d((1,1)) \n",
    "    self.dropout = nn.Dropout(0.2)\n",
    "    self.fc = nn.Linear(1024,num_classes)\n",
    "\n",
    "  def forward(self, x:torch.Tensor) -> torch.Tensor:\n",
    "    x = self.stem(x)\n",
    "\n",
    "    x = self.inception_3a(x)\n",
    "    x = self.inception_3b(x)\n",
    "    x = self.pool_3(x)\n",
    "\n",
    "    x = self.inception_4a(x)\n",
    "    x = self.inception_4b(x)\n",
    "    x = self.inception_4c(x)\n",
    "    x = self.inception_4d(x)\n",
    "    x = self.inception_4e(x)\n",
    "    x = self.pool_4(x)\n",
    "\n",
    "    x = self.inception_5a(x)\n",
    "    x = self.inception_5b(x)\n",
    "\n",
    "    x = self.avg_pool(x)     # [bs, 1024, 1, 1]\n",
    "    x = torch.flatten(x, 1)  # [bs, 1024]\n",
    "    x = self.dropout(x)\n",
    "    x = self.fc(x)           # [bs, num_classes]\n",
    "\n",
    "    return x"
   ]
  },
  {
   "cell_type": "markdown",
   "id": "5e2d7472",
   "metadata": {
    "papermill": {
     "duration": 0.001807,
     "end_time": "2025-10-30T03:54:47.581142",
     "exception": false,
     "start_time": "2025-10-30T03:54:47.579335",
     "status": "completed"
    },
    "tags": []
   },
   "source": [
    "## Main"
   ]
  },
  {
   "cell_type": "code",
   "execution_count": null,
   "id": "6a94efb4",
   "metadata": {
    "execution": {
     "iopub.execute_input": "2025-10-30T03:54:47.586224Z",
     "iopub.status.busy": "2025-10-30T03:54:47.586016Z",
     "iopub.status.idle": "2025-10-30T03:54:47.593340Z",
     "shell.execute_reply": "2025-10-30T03:54:47.592773Z"
    },
    "papermill": {
     "duration": 0.011207,
     "end_time": "2025-10-30T03:54:47.594296",
     "exception": false,
     "start_time": "2025-10-30T03:54:47.583089",
     "status": "completed"
    },
    "tags": []
   },
   "outputs": [
    {
     "name": "stdout",
     "output_type": "stream",
     "text": [
      "Overwriting /kaggle/working/dl/main_googlenet.py\n"
     ]
    }
   ],
   "source": [
    "%%writefile /kaggle/working/dl/main_googlenet.py\n",
    "import torch\n",
    "from torch.utils.data import DataLoader\n",
    "from torch import nn, optim\n",
    "import numpy as np\n",
    "import os\n",
    "import torchvision.transforms as transforms \n",
    "from VinaFood import collate_fn as vinafood_collate_fn, VinaFood\n",
    "from GoogLeNet import GoogLeNet\n",
    "import matplotlib.pyplot as plt\n",
    "from sklearn.metrics import accuracy_score, precision_score, recall_score, f1_score, confusion_matrix\n",
    "import seaborn as sns\n",
    "\n",
    "device = \"cuda\" if torch.cuda.is_available() else \"cpu\"\n",
    "CHECKPOINT_DIR = \"/kaggle/working/\"\n",
    "os.makedirs(CHECKPOINT_DIR, exist_ok=True)\n",
    "\n",
    "def evaluate(dataloader: DataLoader, model: nn.Module, loss_fn: nn.Module) -> dict:\n",
    "    model.eval()\n",
    "    predicts = []\n",
    "    labels_list = []\n",
    "    losses = []\n",
    "\n",
    "    with torch.no_grad():\n",
    "        for item in dataloader:\n",
    "            image = item[\"image\"].to(device)\n",
    "            label = item[\"label\"].to(device)\n",
    "            output = model(image)\n",
    "\n",
    "            loss = loss_fn(output, label) \n",
    "            losses.append(loss.item())\n",
    "            output = output.argmax(dim=-1)\n",
    "\n",
    "            predicts.extend(output.cpu().numpy())\n",
    "            labels_list.extend(label.cpu().numpy())\n",
    "\n",
    "    return {\n",
    "        \"loss\": np.array(losses).mean(),\n",
    "        \"accuracy\": accuracy_score(labels_list, predicts),\n",
    "        \"precision\": precision_score(labels_list, predicts, average=\"macro\", zero_division=0),\n",
    "        \"recall\": recall_score(labels_list, predicts, average=\"macro\", zero_division=0),\n",
    "        \"f1\": f1_score(labels_list, predicts, average=\"macro\", zero_division=0)\n",
    "    }\n",
    "\n",
    "def print_digit_metrics(predicts, labels_list, num_classes):\n",
    "    print(f\"\\nBảng kết quả từng lớp (total: {num_classes} lớp):\")\n",
    "    print(\"Class | Precision | Recall | F1-Score\")\n",
    "    print(\"-\" * 45)\n",
    "\n",
    "    precision = precision_score(labels_list, predicts, average=None, zero_division=0)\n",
    "    recall = recall_score(labels_list, predicts, average=None, zero_division=0)\n",
    "    f1 = f1_score(labels_list, predicts, average=None, zero_division=0)\n",
    " \n",
    "    for i in range(num_classes): \n",
    "        prec = precision[i] if i < len(precision) else 0.0\n",
    "        rec = recall[i] if i < len(recall) else 0.0\n",
    "        f1_s = f1[i] if i < len(f1) else 0.0\n",
    "        print(f\"{i:5d} | {prec:.4f}     | {rec:.4f} | {f1_s:.4f}\")\n",
    "\n",
    "def save_checkpoint(epoch, model, optimizer, best_score, best_score_name, filename):\n",
    "    checkpoint_path = os.path.join(CHECKPOINT_DIR, filename)\n",
    "    torch.save({\n",
    "        'epoch': epoch,\n",
    "        'model_state_dict': model.state_dict(),\n",
    "        'optimizer_state_dict': optimizer.state_dict(),\n",
    "        'best_score': best_score,\n",
    "        'best_score_name': best_score_name,\n",
    "    }, checkpoint_path)\n",
    "    print(f\"-> Checkpoint được lưu ở {checkpoint_path}\")\n",
    "\n",
    "def load_checkpoint(model, optimizer, filename):\n",
    "    checkpoint_path = os.path.join(CHECKPOINT_DIR, filename)\n",
    "    start_epoch = 0\n",
    "    best_score = 0\n",
    "    best_score_name = \"accuracy\" \n",
    "\n",
    "    if os.path.exists(checkpoint_path):\n",
    "        print(f\"-> Tải checkpoint từ {checkpoint_path}...\")\n",
    "        checkpoint = torch.load(checkpoint_path, map_location=device)\n",
    "        model.load_state_dict(checkpoint['model_state_dict'])\n",
    "        optimizer.load_state_dict(checkpoint['optimizer_state_dict'])\n",
    "        start_epoch = checkpoint['epoch'] + 1\n",
    "        best_score = checkpoint.get('best_score', 0)\n",
    "        best_score_name = checkpoint.get('best_score_name', \"accuracy\")\n",
    "        print(f\"Đã tải được checkpoint. Tiếp tục train từ epoch: {start_epoch}. Best score hiện tại: {best_score:.4f}\")\n",
    "    else:\n",
    "        print(f\"Không tìm thấy checkpoint tại {checkpoint_path}. Bắt đầu train lại...\")\n",
    "\n",
    "    return start_epoch, best_score, best_score_name\n",
    "\n",
    "\n",
    "if __name__ == \"__main__\":\n",
    "    \n",
    "    # --- Cấu hình riêng cho GoogLeNet ---\n",
    "    vinafood_transform = transforms.Compose([\n",
    "        transforms.Resize((224, 224)),  # Resize ảnh\n",
    "        transforms.ToTensor(),          # Chuyển ảnh thành Tensor\n",
    "        transforms.Normalize(mean=[0.485, 0.456, 0.406], # Chuẩn hóa\n",
    "                             std=[0.229, 0.224, 0.225])\n",
    "    ])\n",
    "    \n",
    "    model_name = \"GoogLeNet\"\n",
    "    model_class = GoogLeNet\n",
    "    train_dataset = VinaFood(\n",
    "        image_path=\"/kaggle/input/vinafood21/VinaFood21/train\", \n",
    "        transform=vinafood_transform \n",
    "    )\n",
    "    test_dataset = VinaFood(\n",
    "        image_path=\"/kaggle/input/vinafood21/VinaFood21/test\", \n",
    "        transform=vinafood_transform \n",
    "    )\n",
    "    collate_fn_to_use = vinafood_collate_fn\n",
    "    model_params = {\"in_channels\": 3, \"num_classes\": 21}\n",
    "    num_labels = 21\n",
    "    checkpoint_filename = \"GoogLeNet.pth\"\n",
    "    # --- Hết cấu hình ---\n",
    "\n",
    "    print(f\"Bắt đầu huấn luyện mô hình: {model_name}\")\n",
    "\n",
    "    # Tạo dataloaders\n",
    "    train_dataloader = DataLoader(\n",
    "        dataset=train_dataset,\n",
    "        batch_size=32,\n",
    "        shuffle=True,\n",
    "        collate_fn=collate_fn_to_use\n",
    "    )\n",
    "    test_dataloader = DataLoader(\n",
    "        dataset=test_dataset,\n",
    "        batch_size=32,\n",
    "        shuffle=False,\n",
    "        collate_fn=collate_fn_to_use\n",
    "    )\n",
    "\n",
    "    # Khởi tạo mô hình, loss, optimizer\n",
    "    model = model_class(**model_params).to(device) \n",
    "    loss_fn = nn.CrossEntropyLoss().to(device)\n",
    "    optimizer = optim.Adam(model.parameters(), lr=1e-3)\n",
    "\n",
    "    # Tải checkpoint (nếu có)\n",
    "    start_epoch, best_score, best_score_name = load_checkpoint(model, optimizer, checkpoint_filename)\n",
    "\n",
    "    history = {\n",
    "    'loss': [],\n",
    "    'val_loss': [],\n",
    "    'accuracy': [],\n",
    "    'val_accuracy': []\n",
    "    }\n",
    "    \n",
    "    # Training loop\n",
    "    EPOCHS = 10\n",
    "    for epoch in range(start_epoch, EPOCHS):\n",
    "        print(f\"\\nEpoch {epoch+1}/{EPOCHS} - Model: {model_name}:\")\n",
    "        train_preds = []\n",
    "        train_labels = []\n",
    "        losses = []\n",
    "        model.train()\n",
    "        for item in train_dataloader:\n",
    "            image = item[\"image\"].to(device)\n",
    "            label = item[\"label\"].to(device)\n",
    "\n",
    "            output = model(image)\n",
    "            loss = loss_fn(output, label)\n",
    "\n",
    "            train_preds.extend(output.argmax(dim=-1).cpu().numpy())\n",
    "            train_labels.extend(label.cpu().numpy())\n",
    "            \n",
    "            optimizer.zero_grad()\n",
    "            loss.backward()\n",
    "            optimizer.step()\n",
    "            losses.append(loss.item())\n",
    "\n",
    "        avg_loss = np.array(losses).mean()\n",
    "        avg_train_acc = accuracy_score(train_labels, train_preds) # Tính train acc\n",
    "        history['loss'].append(avg_loss)\n",
    "        history['accuracy'].append(avg_train_acc)\n",
    "\n",
    "        print(f\"Loss: {avg_loss:.4f} - Accuracy: {avg_train_acc:.4f}\")\n",
    "\n",
    "        scores = evaluate(test_dataloader, model, loss_fn) \n",
    "\n",
    "        history['val_loss'].append(scores['loss'])\n",
    "        history['val_accuracy'].append(scores['accuracy'])\n",
    "\n",
    "        print(f\"  - val_loss: {scores['loss']:.4f}\")\n",
    "        print(f\"  - val_accuracy: {scores['accuracy']:.4f}\")\n",
    "        \n",
    "        current_score = scores.get(best_score_name, 0)\n",
    "        if current_score > best_score:\n",
    "            best_score = current_score\n",
    "            save_checkpoint(epoch, model, optimizer, best_score, best_score_name, checkpoint_filename)\n",
    "            print(f\"-> Đã lưu mô hình tốt nhất {best_score_name}: {best_score:.4f}\")\n",
    "\n",
    "\n",
    "    # Final evaluation\n",
    "    print(\"\\n\" + \"=\"*50)\n",
    "    print(\"ĐÁNH GIÁ CUỐI CÙNG\")\n",
    "    print(\"=\"*50)\n",
    "\n",
    "    all_preds = []\n",
    "    all_labels = []\n",
    "    model.eval()\n",
    "    with torch.no_grad():\n",
    "        for batch in test_dataloader:\n",
    "            images = batch['image'].to(device)\n",
    "            labels = batch['label']\n",
    "            outputs = model(images)\n",
    "            predicted = outputs.argmax(dim=-1)\n",
    "            all_preds.extend(predicted.cpu().numpy())\n",
    "            all_labels.extend(labels.numpy())\n",
    "\n",
    "    print_digit_metrics(all_preds, all_labels, num_labels)\n",
    "\n",
    "    all_possible_labels = list(range(num_labels))\n",
    "    cm = confusion_matrix(all_labels, all_preds, labels=all_possible_labels) # <-- ĐÃ SỬA\n",
    "    plt.figure(figsize=(10, 8))\n",
    "    sns.heatmap(cm, annot=True, fmt='d', cmap='Blues')\n",
    "    plt.title(f'Confusion Matrix của mô hình {model_name}')\n",
    "    plt.xlabel('Predicted')\n",
    "    plt.ylabel('True')\n",
    "    plt.show()\n",
    "\n",
    "    print(\"\\nĐang vẽ biểu đồ Loss và Accuracy...\")\n",
    "    plt.figure(figsize=(12,4))\n",
    "    \n",
    "    # Plot Loss\n",
    "    plt.subplot(1,2,1)\n",
    "    plt.plot(history['loss'], label='train loss')\n",
    "    plt.plot(history['val_loss'], label='val loss')\n",
    "    plt.legend()\n",
    "    plt.title('Loss')\n",
    "\n",
    "    # Plot Accuracy\n",
    "    plt.subplot(1,2,2)\n",
    "    plt.plot(history['accuracy'], label='train acc')\n",
    "    plt.plot(history['val_accuracy'], label='val acc')\n",
    "    plt.legend()\n",
    "    plt.title('Accuracy')\n",
    "    \n",
    "    plt.show()"
   ]
  },
  {
   "cell_type": "code",
   "execution_count": 6,
   "id": "e2378837",
   "metadata": {
    "execution": {
     "iopub.execute_input": "2025-10-30T03:54:47.599403Z",
     "iopub.status.busy": "2025-10-30T03:54:47.598902Z",
     "iopub.status.idle": "2025-10-30T04:47:10.960670Z",
     "shell.execute_reply": "2025-10-30T04:47:10.960011Z"
    },
    "papermill": {
     "duration": 3143.365743,
     "end_time": "2025-10-30T04:47:10.962190",
     "exception": false,
     "start_time": "2025-10-30T03:54:47.596447",
     "status": "completed"
    },
    "tags": []
   },
   "outputs": [
    {
     "name": "stdout",
     "output_type": "stream",
     "text": [
      "Bắt đầu huấn luyện mô hình: GoogLeNet\n",
      "Không tìm thấy checkpoint tại /kaggle/working/GoogLeNet.pth. Bắt đầu train lại...\n",
      "\n",
      "Epoch 1/10 - Model: GoogLeNet:\n"
     ]
    },
    {
     "name": "stderr",
     "output_type": "stream",
     "text": [
      "/usr/local/lib/python3.11/dist-packages/PIL/Image.py:1047: UserWarning: Palette images with Transparency expressed in bytes should be converted to RGBA images\n",
      "  warnings.warn(\n"
     ]
    },
    {
     "name": "stdout",
     "output_type": "stream",
     "text": [
      "Loss: 2.9866 - Accuracy: 0.0848\n",
      "  - val_loss: 2.9775\n",
      "  - val_accuracy: 0.0908\n",
      "-> Checkpoint được lưu ở /kaggle/working/GoogLeNet.pth\n",
      "-> Đã lưu mô hình tốt nhất accuracy: 0.0908\n",
      "\n",
      "Epoch 2/10 - Model: GoogLeNet:\n"
     ]
    },
    {
     "name": "stderr",
     "output_type": "stream",
     "text": [
      "/usr/local/lib/python3.11/dist-packages/PIL/Image.py:1047: UserWarning: Palette images with Transparency expressed in bytes should be converted to RGBA images\n",
      "  warnings.warn(\n"
     ]
    },
    {
     "name": "stdout",
     "output_type": "stream",
     "text": [
      "Loss: 2.9795 - Accuracy: 0.0879\n",
      "  - val_loss: 2.9776\n",
      "  - val_accuracy: 0.0908\n",
      "\n",
      "Epoch 3/10 - Model: GoogLeNet:\n"
     ]
    },
    {
     "name": "stderr",
     "output_type": "stream",
     "text": [
      "/usr/local/lib/python3.11/dist-packages/PIL/Image.py:1047: UserWarning: Palette images with Transparency expressed in bytes should be converted to RGBA images\n",
      "  warnings.warn(\n"
     ]
    },
    {
     "name": "stdout",
     "output_type": "stream",
     "text": [
      "Loss: 2.9790 - Accuracy: 0.0909\n",
      "  - val_loss: 2.9762\n",
      "  - val_accuracy: 0.0838\n",
      "\n",
      "Epoch 4/10 - Model: GoogLeNet:\n"
     ]
    },
    {
     "name": "stderr",
     "output_type": "stream",
     "text": [
      "/usr/local/lib/python3.11/dist-packages/PIL/Image.py:1047: UserWarning: Palette images with Transparency expressed in bytes should be converted to RGBA images\n",
      "  warnings.warn(\n"
     ]
    },
    {
     "name": "stdout",
     "output_type": "stream",
     "text": [
      "Loss: 2.9781 - Accuracy: 0.0872\n",
      "  - val_loss: 2.9760\n",
      "  - val_accuracy: 0.0908\n",
      "\n",
      "Epoch 5/10 - Model: GoogLeNet:\n"
     ]
    },
    {
     "name": "stderr",
     "output_type": "stream",
     "text": [
      "/usr/local/lib/python3.11/dist-packages/PIL/Image.py:1047: UserWarning: Palette images with Transparency expressed in bytes should be converted to RGBA images\n",
      "  warnings.warn(\n"
     ]
    },
    {
     "name": "stdout",
     "output_type": "stream",
     "text": [
      "Loss: 2.9773 - Accuracy: 0.0903\n",
      "  - val_loss: 2.9753\n",
      "  - val_accuracy: 0.0908\n",
      "\n",
      "Epoch 6/10 - Model: GoogLeNet:\n"
     ]
    },
    {
     "name": "stderr",
     "output_type": "stream",
     "text": [
      "/usr/local/lib/python3.11/dist-packages/PIL/Image.py:1047: UserWarning: Palette images with Transparency expressed in bytes should be converted to RGBA images\n",
      "  warnings.warn(\n"
     ]
    },
    {
     "name": "stdout",
     "output_type": "stream",
     "text": [
      "Loss: 2.9777 - Accuracy: 0.0893\n",
      "  - val_loss: 2.9757\n",
      "  - val_accuracy: 0.0908\n",
      "\n",
      "Epoch 7/10 - Model: GoogLeNet:\n"
     ]
    },
    {
     "name": "stderr",
     "output_type": "stream",
     "text": [
      "/usr/local/lib/python3.11/dist-packages/PIL/Image.py:1047: UserWarning: Palette images with Transparency expressed in bytes should be converted to RGBA images\n",
      "  warnings.warn(\n"
     ]
    },
    {
     "name": "stdout",
     "output_type": "stream",
     "text": [
      "Loss: 2.9777 - Accuracy: 0.0908\n",
      "  - val_loss: 2.9753\n",
      "  - val_accuracy: 0.0908\n",
      "\n",
      "Epoch 8/10 - Model: GoogLeNet:\n"
     ]
    },
    {
     "name": "stderr",
     "output_type": "stream",
     "text": [
      "/usr/local/lib/python3.11/dist-packages/PIL/Image.py:1047: UserWarning: Palette images with Transparency expressed in bytes should be converted to RGBA images\n",
      "  warnings.warn(\n"
     ]
    },
    {
     "name": "stdout",
     "output_type": "stream",
     "text": [
      "Loss: 2.9774 - Accuracy: 0.0888\n",
      "  - val_loss: 2.9751\n",
      "  - val_accuracy: 0.0908\n",
      "\n",
      "Epoch 9/10 - Model: GoogLeNet:\n"
     ]
    },
    {
     "name": "stderr",
     "output_type": "stream",
     "text": [
      "/usr/local/lib/python3.11/dist-packages/PIL/Image.py:1047: UserWarning: Palette images with Transparency expressed in bytes should be converted to RGBA images\n",
      "  warnings.warn(\n"
     ]
    },
    {
     "name": "stdout",
     "output_type": "stream",
     "text": [
      "Loss: 2.9775 - Accuracy: 0.0898\n",
      "  - val_loss: 2.9749\n",
      "  - val_accuracy: 0.0908\n",
      "\n",
      "Epoch 10/10 - Model: GoogLeNet:\n"
     ]
    },
    {
     "name": "stderr",
     "output_type": "stream",
     "text": [
      "/usr/local/lib/python3.11/dist-packages/PIL/Image.py:1047: UserWarning: Palette images with Transparency expressed in bytes should be converted to RGBA images\n",
      "  warnings.warn(\n"
     ]
    },
    {
     "name": "stdout",
     "output_type": "stream",
     "text": [
      "Loss: 2.9770 - Accuracy: 0.0908\n",
      "  - val_loss: 2.9753\n",
      "  - val_accuracy: 0.0908\n",
      "\n",
      "==================================================\n",
      "ĐÁNH GIÁ CUỐI CÙNG\n",
      "==================================================\n",
      "\n",
      "Bảng kết quả từng lớp (total: 21 lớp):\n",
      "Class | Precision | Recall | F1-Score\n",
      "---------------------------------------------\n",
      "    0 | 0.0000     | 0.0000 | 0.0000\n",
      "    1 | 0.0908     | 1.0000 | 0.1666\n",
      "    2 | 0.0000     | 0.0000 | 0.0000\n",
      "    3 | 0.0000     | 0.0000 | 0.0000\n",
      "    4 | 0.0000     | 0.0000 | 0.0000\n",
      "    5 | 0.0000     | 0.0000 | 0.0000\n",
      "    6 | 0.0000     | 0.0000 | 0.0000\n",
      "    7 | 0.0000     | 0.0000 | 0.0000\n",
      "    8 | 0.0000     | 0.0000 | 0.0000\n",
      "    9 | 0.0000     | 0.0000 | 0.0000\n",
      "   10 | 0.0000     | 0.0000 | 0.0000\n",
      "   11 | 0.0000     | 0.0000 | 0.0000\n",
      "   12 | 0.0000     | 0.0000 | 0.0000\n",
      "   13 | 0.0000     | 0.0000 | 0.0000\n",
      "   14 | 0.0000     | 0.0000 | 0.0000\n",
      "   15 | 0.0000     | 0.0000 | 0.0000\n",
      "   16 | 0.0000     | 0.0000 | 0.0000\n",
      "   17 | 0.0000     | 0.0000 | 0.0000\n",
      "   18 | 0.0000     | 0.0000 | 0.0000\n",
      "   19 | 0.0000     | 0.0000 | 0.0000\n",
      "   20 | 0.0000     | 0.0000 | 0.0000\n"
     ]
    },
    {
     "data": {
      "image/png": "[encoded data removed]",
      "text/plain": [
       "<Figure size 1000x800 with 2 Axes>"
      ]
     },
     "metadata": {},
     "output_type": "display_data"
    },
    {
     "name": "stdout",
     "output_type": "stream",
     "text": [
      "\n",
      "Đang vẽ biểu đồ Loss và Accuracy...\n"
     ]
    },
    {
     "data": {
      "image/png": "[encoded data removed]",
      "text/plain": [
       "<Figure size 1200x400 with 2 Axes>"
      ]
     },
     "metadata": {},
     "output_type": "display_data"
    },
    {
     "data": {
      "text/plain": [
       "<Figure size 640x480 with 0 Axes>"
      ]
     },
     "metadata": {},
     "output_type": "display_data"
    }
   ],
   "source": [
    "import sys\n",
    "sys.path.insert(0, '/kaggle/working/dl')\n",
    "%run /kaggle/working/dl/main_googlenet.py"
   ]
  }
 ],
 "metadata": {
  "kaggle": {
   "accelerator": "gpu",
   "dataSources": [
    {
     "datasetId": 8539588,
     "sourceId": 13453298,
     "sourceType": "datasetVersion"
    }
   ],
   "dockerImageVersionId": 31154,
   "isGpuEnabled": true,
   "isInternetEnabled": true,
   "language": "python",
   "sourceType": "notebook"
  },
  "kernelspec": {
   "display_name": "Python 3",
   "language": "python",
   "name": "python3"
  },
  "language_info": {
   "codemirror_mode": {
    "name": "ipython",
    "version": 3
   },
   "file_extension": ".py",
   "mimetype": "text/x-python",
   "name": "python",
   "nbconvert_exporter": "python",
   "pygments_lexer": "ipython3",
   "version": "3.11.13"
  },
  "papermill": {
   "default_parameters": {},
   "duration": 3150.156814,
   "end_time": "2025-10-30T04:47:13.794348",
   "environment_variables": {},
   "exception": null,
   "input_path": "__notebook__.ipynb",
   "output_path": "__notebook__.ipynb",
   "parameters": {},
   "start_time": "2025-10-30T03:54:43.637534",
   "version": "2.6.0"
  }
 },
 "nbformat": 4,
 "nbformat_minor": 5
}
