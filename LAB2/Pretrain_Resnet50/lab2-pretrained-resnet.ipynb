{
 "cells": [
  {
   "cell_type": "code",
   "execution_count": 1,
   "id": "53178375",
   "metadata": {
    "_cell_guid": "b1076dfc-b9ad-4769-8c92-a6c4dae69d19",
    "_uuid": "8f2839f25d086af736a60e9eeb907d3b93b6e0e5",
    "execution": {
     "iopub.execute_input": "2025-10-30T14:21:17.432995Z",
     "iopub.status.busy": "2025-10-30T14:21:17.432720Z",
     "iopub.status.idle": "2025-10-30T14:21:17.439966Z",
     "shell.execute_reply": "2025-10-30T14:21:17.439184Z"
    },
    "papermill": {
     "duration": 0.011865,
     "end_time": "2025-10-30T14:21:17.441186",
     "exception": false,
     "start_time": "2025-10-30T14:21:17.429321",
     "status": "completed"
    },
    "tags": []
   },
   "outputs": [],
   "source": [
    "import os\n",
    "\n",
    "os.makedirs(\"/kaggle/working/dl\", exist_ok = True)\n",
    "\n",
    "for fname in [\n",
    "    \"main.py\",\n",
    "    \"VinaFood.py\",\n",
    "    \"pretrained.py\"\n",
    "]:\n",
    "  open(f\"/kaggle/working/dl/{fname}\", \"w\").close()"
   ]
  },
  {
   "cell_type": "markdown",
   "id": "b76a41d8",
   "metadata": {
    "papermill": {
     "duration": 0.001507,
     "end_time": "2025-10-30T14:21:17.444975",
     "exception": false,
     "start_time": "2025-10-30T14:21:17.443468",
     "status": "completed"
    },
    "tags": []
   },
   "source": [
    "## Fine-tune Pretrained Resnet50"
   ]
  },
  {
   "cell_type": "code",
   "execution_count": 2,
   "id": "4c9e8e06",
   "metadata": {
    "execution": {
     "iopub.execute_input": "2025-10-30T14:21:17.449379Z",
     "iopub.status.busy": "2025-10-30T14:21:17.448812Z",
     "iopub.status.idle": "2025-10-30T14:21:17.454763Z",
     "shell.execute_reply": "2025-10-30T14:21:17.453929Z"
    },
    "papermill": {
     "duration": 0.009401,
     "end_time": "2025-10-30T14:21:17.455990",
     "exception": false,
     "start_time": "2025-10-30T14:21:17.446589",
     "status": "completed"
    },
    "tags": []
   },
   "outputs": [
    {
     "name": "stdout",
     "output_type": "stream",
     "text": [
      "Overwriting /kaggle/working/dl/VinaFood.py\n"
     ]
    }
   ],
   "source": [
    "%%writefile /kaggle/working/dl/VinaFood.py\n",
    "import torch\n",
    "from torch.utils.data import Dataset\n",
    "from pathlib import Path # xử lý đường dẫn\n",
    "from PIL import Image # đọc ảnh\n",
    "import os\n",
    "\n",
    "def collate_fn(samples: list[dict]) -> torch.Tensor:\n",
    "  images = [sample[\"image\"] for sample in samples]\n",
    "  labels = [sample[\"label\"] for sample in samples]\n",
    "\n",
    "  images = torch.cat(images, dim = 0) # Ghép các tensor [1, 3, H, W] lại thành [bs, 3, H, W]\n",
    "  labels = torch.tensor(labels) # Chuyển list các label (số) [0, 1, 2, 0] thành tensor [bs]\n",
    "\n",
    "  return {\n",
    "      \"image\": images,\n",
    "      \"label\": labels\n",
    "  }\n",
    "\n",
    "class VinaFood(Dataset):\n",
    "  def __init__(self, image_path: str, transform = None):\n",
    "    super().__init__()\n",
    "\n",
    "    self.root_dir = Path(image_path)\n",
    "    self.transform = transform\n",
    "\n",
    "    # 1. Lấy danh sách tên thư mục con\n",
    "    # Sắp xếp thứ tự\n",
    "    self.classes = sorted([d.name for d in self.root_dir.iterdir() if d.is_dir()])\n",
    "\n",
    "    # 2. Tạo map từ labels sang số\n",
    "    self.class_to_idx = {\n",
    "        cls_name: i for i, cls_name in enumerate(self.classes)\n",
    "    }\n",
    "\n",
    "    # 3. Quét toàn bộ thư mục để lấy đường dẫn ảnh và nhãn tương ứng\n",
    "    self.samples = []\n",
    "\n",
    "    for class_name in self.classes:\n",
    "      class_idx = self.class_to_idx[class_name] # lấy số\n",
    "      class_dir = self.root_dir / class_name\n",
    "\n",
    "      # Lặp qua các file trong thư mục clas đó\n",
    "      for img_path in class_dir.iterdir():\n",
    "        self.samples.append((img_path,class_idx))\n",
    "\n",
    "  def __len__(self) -> int:\n",
    "    return len(self.samples)\n",
    "\n",
    "  def __getitem__(self, idx) -> dict:\n",
    "    # Lấy đường dẫn và nhãn qua index\n",
    "    img_path, label = self.samples[idx]\n",
    "\n",
    "    # Đọc ảnh\n",
    "    image = Image.open(img_path).convert(\"RGB\")\n",
    "\n",
    "    # Áp dụng transform nếu có\n",
    "    if self.transform:\n",
    "      image = self.transform(image)\n",
    "\n",
    "    if isinstance(image, torch.Tensor):\n",
    "      image = image.unsqueeze(0)\n",
    "\n",
    "    return {\n",
    "        \"image\": image,\n",
    "        \"label\": label\n",
    "    }"
   ]
  },
  {
   "cell_type": "code",
   "execution_count": 3,
   "id": "1074541f",
   "metadata": {
    "execution": {
     "iopub.execute_input": "2025-10-30T14:21:17.460997Z",
     "iopub.status.busy": "2025-10-30T14:21:17.460406Z",
     "iopub.status.idle": "2025-10-30T14:21:17.465179Z",
     "shell.execute_reply": "2025-10-30T14:21:17.464549Z"
    },
    "papermill": {
     "duration": 0.008259,
     "end_time": "2025-10-30T14:21:17.466234",
     "exception": false,
     "start_time": "2025-10-30T14:21:17.457975",
     "status": "completed"
    },
    "tags": []
   },
   "outputs": [
    {
     "name": "stdout",
     "output_type": "stream",
     "text": [
      "Overwriting /kaggle/working/dl/pretrained.py\n"
     ]
    }
   ],
   "source": [
    "%%writefile /kaggle/working/dl/pretrained.py\n",
    "import torch\n",
    "from torch import nn\n",
    "from transformers import ResNetForImageClassification\n",
    "\n",
    "class PretrainedResnet(nn.Module):\n",
    "    def __init__(self):\n",
    "        super().__init__()\n",
    "\n",
    "        basemodel = ResNetForImageClassification.from_pretrained(\"microsoft/resnet-50\")\n",
    "\n",
    "        self.resnet = basemodel.resnet\n",
    "        self.classifier = nn.Linear(in_features=2048, out_features=21, bias=True)\n",
    "\n",
    "    def forward(self, images: torch.Tensor):\n",
    "        features = self.resnet(images).pooler_output\n",
    "        features = features.squeeze(-1).squeeze(-1)\n",
    "        logits = self.classifier(features)\n",
    "\n",
    "        return logits"
   ]
  },
  {
   "cell_type": "code",
   "execution_count": null,
   "id": "6b770fe2",
   "metadata": {
    "execution": {
     "iopub.execute_input": "2025-10-30T14:21:17.471199Z",
     "iopub.status.busy": "2025-10-30T14:21:17.470972Z",
     "iopub.status.idle": "2025-10-30T14:21:17.479336Z",
     "shell.execute_reply": "2025-10-30T14:21:17.478652Z"
    },
    "papermill": {
     "duration": 0.012305,
     "end_time": "2025-10-30T14:21:17.480548",
     "exception": false,
     "start_time": "2025-10-30T14:21:17.468243",
     "status": "completed"
    },
    "tags": []
   },
   "outputs": [
    {
     "name": "stdout",
     "output_type": "stream",
     "text": [
      "Overwriting /kaggle/working/dl/main.py\n"
     ]
    }
   ],
   "source": [
    "%%writefile /kaggle/working/dl/main.py\n",
    "import torch\n",
    "from torch.utils.data import DataLoader\n",
    "from torch import nn, optim\n",
    "import numpy as np\n",
    "import os\n",
    "import torchvision.transforms as transforms\n",
    "from VinaFood import collate_fn as vinafood_collate_fn, VinaFood\n",
    "from pretrained import PretrainedResnet \n",
    "import matplotlib.pyplot as plt\n",
    "from sklearn.metrics import accuracy_score, precision_score, recall_score, f1_score, confusion_matrix\n",
    "import seaborn as sns\n",
    "\n",
    "device = \"cuda\" if torch.cuda.is_available() else \"cpu\"\n",
    "CHECKPOINT_DIR = \"/kaggle/working/\"\n",
    "os.makedirs(CHECKPOINT_DIR, exist_ok=True)\n",
    "\n",
    "def evaluate(dataloader: DataLoader, model: nn.Module, loss_fn: nn.Module) -> dict:\n",
    "    model.eval()\n",
    "    predicts = []\n",
    "    labels_list = []\n",
    "    losses = []\n",
    "\n",
    "    with torch.no_grad():\n",
    "        for item in dataloader:\n",
    "            image = item[\"image\"].to(device)\n",
    "            label = item[\"label\"].to(device)\n",
    "            output = model(image)\n",
    "\n",
    "            loss = loss_fn(output, label) \n",
    "            losses.append(loss.item())\n",
    "            output = output.argmax(dim=-1)\n",
    "\n",
    "            predicts.extend(output.cpu().numpy())\n",
    "            labels_list.extend(label.cpu().numpy())\n",
    "\n",
    "    return {\n",
    "        \"loss\": np.array(losses).mean(),\n",
    "        \"accuracy\": accuracy_score(labels_list, predicts),\n",
    "        \"precision\": precision_score(labels_list, predicts, average=\"macro\", zero_division=0),\n",
    "        \"recall\": recall_score(labels_list, predicts, average=\"macro\", zero_division=0),\n",
    "        \"f1\": f1_score(labels_list, predicts, average=\"macro\", zero_division=0)\n",
    "    }\n",
    "\n",
    "def print_digit_metrics(predicts, labels_list, num_classes):\n",
    "    print(f\"\\nBảng kết quả từng lớp (total: {num_classes} lớp):\")\n",
    "    print(\"Class | Precision | Recall | F1-Score\")\n",
    "    print(\"-\" * 45)\n",
    "\n",
    "    precision = precision_score(labels_list, predicts, average=None, zero_division=0)\n",
    "    recall = recall_score(labels_list, predicts, average=None, zero_division=0)\n",
    "    f1 = f1_score(labels_list, predicts, average=None, zero_division=0)\n",
    "\n",
    "    for i in range(num_classes): \n",
    "        prec = precision[i] if i < len(precision) else 0.0\n",
    "        rec = recall[i] if i < len(recall) else 0.0\n",
    "        f1_s = f1[i] if i < len(f1) else 0.0\n",
    "        print(f\"{i:5d} | {prec:.4f}     | {rec:.4f} | {f1_s:.4f}\")\n",
    "\n",
    "def save_checkpoint(epoch, model, optimizer, best_score, best_score_name, filename):\n",
    "    checkpoint_path = os.path.join(CHECKPOINT_DIR, filename)\n",
    "    torch.save({\n",
    "        'epoch': epoch,\n",
    "        'model_state_dict': model.state_dict(),\n",
    "        'optimizer_state_dict': optimizer.state_dict(),\n",
    "        'best_score': best_score,\n",
    "        'best_score_name': best_score_name,\n",
    "    }, checkpoint_path)\n",
    "    print(f\"-> Checkpoint được lưu ở {checkpoint_path}\")\n",
    "\n",
    "def load_checkpoint(model, optimizer, filename):\n",
    "    checkpoint_path = os.path.join(CHECKPOINT_DIR, filename)\n",
    "    start_epoch = 0\n",
    "    best_score = 0\n",
    "    best_score_name = \"accuracy\" \n",
    "\n",
    "    if os.path.exists(checkpoint_path):\n",
    "        print(f\"-> Tải checkpoint từ {checkpoint_path}...\")\n",
    "        checkpoint = torch.load(checkpoint_path, map_location=device)\n",
    "        model.load_state_dict(checkpoint['model_state_dict'])\n",
    "        optimizer.load_state_dict(checkpoint['optimizer_state_dict'])\n",
    "        start_epoch = checkpoint['epoch'] + 1\n",
    "        best_score = checkpoint.get('best_score', 0)\n",
    "        best_score_name = checkpoint.get('best_score_name', \"accuracy\")\n",
    "        print(f\"Đã tải được checkpoint. Tiếp tục train từ epoch: {start_epoch}. Best score hiện tại: {best_score:.4f}\")\n",
    "    else:\n",
    "        print(f\"Không tìm thấy checkpoint tại {checkpoint_path}. Bắt đầu train lại...\")\n",
    "\n",
    "    return start_epoch, best_score, best_score_name\n",
    "\n",
    "if __name__ == \"__main__\":\n",
    "    \n",
    "    IMAGENET_MEAN = [0.485, 0.456, 0.406]\n",
    "    IMAGENET_STD = [0.229, 0.224, 0.225]\n",
    "\n",
    "    # Transform cho training (có data augmentation)\n",
    "    train_transform = transforms.Compose([\n",
    "        transforms.Resize((256, 256)),\n",
    "        transforms.RandomCrop((224, 224)), # Cắt ngẫu nhiên\n",
    "        transforms.RandomHorizontalFlip(), # Lật ngang ngẫu nhiên\n",
    "        transforms.ToTensor(),\n",
    "        transforms.Normalize(mean=IMAGENET_MEAN, std=IMAGENET_STD)\n",
    "    ])\n",
    "\n",
    "    # Transform cho test/validation (không augmentation)\n",
    "    val_transform = transforms.Compose([\n",
    "        transforms.Resize((224, 224)),\n",
    "        transforms.ToTensor(),\n",
    "        transforms.Normalize(mean=IMAGENET_MEAN, std=IMAGENET_STD)\n",
    "    ])\n",
    "    \n",
    "    model_name = \"PretrainedResnet\"\n",
    "    model_class = PretrainedResnet \n",
    "    \n",
    "    train_dataset = VinaFood(\n",
    "        image_path=\"/kaggle/input/vinafood21/VinaFood21/train\", \n",
    "        transform=train_transform\n",
    "    )\n",
    "    test_dataset = VinaFood(\n",
    "        image_path=\"/kaggle/input/vinafood21/VinaFood21/test\",\n",
    "        transform=val_transform \n",
    "    )\n",
    "    collate_fn_to_use = vinafood_collate_fn\n",
    "    \n",
    "    num_labels = 21 \n",
    "    \n",
    "    checkpoint_filename = \"PretrainedResnet_finetuned.pth\" \n",
    "\n",
    "\n",
    "    print(f\"Bắt đầu huấn luyện mô hình: {model_name}\")\n",
    "\n",
    "    # Tạo dataloaders\n",
    "    train_dataloader = DataLoader(\n",
    "        dataset=train_dataset,\n",
    "        batch_size=32,\n",
    "        shuffle=True,\n",
    "        collate_fn=collate_fn_to_use\n",
    "    )\n",
    "    test_dataloader = DataLoader(\n",
    "        dataset=test_dataset,\n",
    "        batch_size=32,\n",
    "        shuffle=False,\n",
    "        collate_fn=collate_fn_to_use\n",
    "    )\n",
    "\n",
    "    # Khởi tạo mô hình, loss, optimizer\n",
    "    model = model_class().to(device) \n",
    "    loss_fn = nn.CrossEntropyLoss().to(device)\n",
    "    # Fine-tuning nên dùng LR nhỏ\n",
    "    optimizer = optim.Adam(model.parameters(), lr=1e-4) \n",
    "\n",
    "    # Tải checkpoint (nếu có)\n",
    "    start_epoch, best_score, best_score_name = load_checkpoint(model, optimizer, checkpoint_filename)\n",
    "\n",
    "    history = {\n",
    "    'loss': [],\n",
    "    'val_loss': [],\n",
    "    'accuracy': [],\n",
    "    'val_accuracy': []\n",
    "    }\n",
    "    \n",
    "    # Training loop\n",
    "    EPOCHS = 10\n",
    "    for epoch in range(start_epoch, EPOCHS):\n",
    "        print(f\"\\nEpoch {epoch+1}/{EPOCHS} - Model: {model_name}:\")\n",
    "        train_preds = []\n",
    "        train_labels = []\n",
    "        losses = []\n",
    "        model.train()\n",
    "        for item in train_dataloader:\n",
    "            image = item[\"image\"].to(device)\n",
    "            label = item[\"label\"].to(device)\n",
    "\n",
    "            output = model(image)\n",
    "            loss = loss_fn(output, label)\n",
    "\n",
    "            train_preds.extend(output.argmax(dim=-1).cpu().numpy())\n",
    "            train_labels.extend(label.cpu().numpy())\n",
    "            \n",
    "            optimizer.zero_grad()\n",
    "            loss.backward()\n",
    "            optimizer.step()\n",
    "            losses.append(loss.item())\n",
    "\n",
    "        avg_loss = np.array(losses).mean()\n",
    "        avg_train_acc = accuracy_score(train_labels, train_preds) # Tính train acc\n",
    "        history['loss'].append(avg_loss)\n",
    "        history['accuracy'].append(avg_train_acc)\n",
    "\n",
    "        print(f\"Loss: {avg_loss:.4f} - Accuracy: {avg_train_acc:.4f}\")\n",
    "\n",
    "        scores = evaluate(test_dataloader, model, loss_fn) \n",
    "\n",
    "        history['val_loss'].append(scores['loss'])\n",
    "        history['val_accuracy'].append(scores['accuracy'])\n",
    "\n",
    "        print(f\"  - val_loss: {scores['loss']:.4f}\")\n",
    "        print(f\"  - val_accuracy: {scores['accuracy']:.4f}\")\n",
    "        \n",
    "        current_score = scores.get(best_score_name, 0)\n",
    "        if current_score > best_score:\n",
    "            best_score = current_score\n",
    "            save_checkpoint(epoch, model, optimizer, best_score, best_score_name, checkpoint_filename)\n",
    "            print(f\"-> Đã lưu mô hình tốt nhất {best_score_name}: {best_score:.4f}\")\n",
    "\n",
    "\n",
    "    # Final evaluation\n",
    "    print(\"\\n\" + \"=\"*50)\n",
    "    print(\"ĐÁNH GIÁ CUỐI CÙNG\")\n",
    "    print(\"=\"*50)\n",
    "\n",
    "    all_preds = []\n",
    "    all_labels = []\n",
    "    model.eval()\n",
    "    with torch.no_grad():\n",
    "        for batch in test_dataloader:\n",
    "            images = batch['image'].to(device)\n",
    "            labels = batch['label']\n",
    "            outputs = model(images)\n",
    "            predicted = outputs.argmax(dim=-1)\n",
    "            all_preds.extend(predicted.cpu().numpy())\n",
    "            all_labels.extend(labels.numpy())\n",
    "\n",
    "    print_digit_metrics(all_preds, all_labels, num_labels)\n",
    "\n",
    "    all_possible_labels = list(range(num_labels))\n",
    "    cm = confusion_matrix(all_labels, all_preds, labels=all_possible_labels)\n",
    "    plt.figure(figsize=(10, 8))\n",
    "    sns.heatmap(cm, annot=True, fmt='d', cmap='Blues')\n",
    "    plt.title(f'Confusion Matrix của mô hình {model_name}')\n",
    "    plt.xlabel('Predicted')\n",
    "    plt.ylabel('True')\n",
    "    plt.show()\n",
    "\n",
    "    print(\"\\nĐang vẽ biểu đồ Loss và Accuracy...\")\n",
    "    plt.figure(figsize=(12,4))\n",
    "    \n",
    "    # Plot Loss\n",
    "    plt.subplot(1,2,1)\n",
    "    plt.plot(history['loss'], label='train loss')\n",
    "    plt.plot(history['val_loss'], label='val loss')\n",
    "    plt.legend()\n",
    "    plt.title('Loss')\n",
    "\n",
    "    # Plot Accuracy\n",
    "    plt.subplot(1,2,2)\n",
    "    plt.plot(history['accuracy'], label='train acc')\n",
    "    plt.plot(history['val_accuracy'], label='val acc')\n",
    "    plt.legend()\n",
    "    plt.title('Accuracy')\n",
    "    \n",
    "    plt.show()"
   ]
  },
  {
   "cell_type": "code",
   "execution_count": 5,
   "id": "ff9ed0f3",
   "metadata": {
    "execution": {
     "iopub.execute_input": "2025-10-30T14:21:17.485717Z",
     "iopub.status.busy": "2025-10-30T14:21:17.485112Z",
     "iopub.status.idle": "2025-10-30T15:20:44.001506Z",
     "shell.execute_reply": "2025-10-30T15:20:44.000772Z"
    },
    "papermill": {
     "duration": 3566.520095,
     "end_time": "2025-10-30T15:20:44.002740",
     "exception": false,
     "start_time": "2025-10-30T14:21:17.482645",
     "status": "completed"
    },
    "tags": []
   },
   "outputs": [
    {
     "name": "stderr",
     "output_type": "stream",
     "text": [
      "2025-10-30 14:21:35.613029: E external/local_xla/xla/stream_executor/cuda/cuda_fft.cc:477] Unable to register cuFFT factory: Attempting to register factory for plugin cuFFT when one has already been registered\n",
      "WARNING: All log messages before absl::InitializeLog() is called are written to STDERR\n",
      "E0000 00:00:1761834095.859238      19 cuda_dnn.cc:8310] Unable to register cuDNN factory: Attempting to register factory for plugin cuDNN when one has already been registered\n",
      "E0000 00:00:1761834095.937672      19 cuda_blas.cc:1418] Unable to register cuBLAS factory: Attempting to register factory for plugin cuBLAS when one has already been registered\n"
     ]
    },
    {
     "name": "stdout",
     "output_type": "stream",
     "text": [
      "Bắt đầu huấn luyện mô hình: PretrainedResnet\n"
     ]
    },
    {
     "data": {
      "application/vnd.jupyter.widget-view+json": {
       "model_id": "59c5774f678043d69630a39e697d2e11",
       "version_major": 2,
       "version_minor": 0
      },
      "text/plain": [
       "config.json: 0.00B [00:00, ?B/s]"
      ]
     },
     "metadata": {},
     "output_type": "display_data"
    },
    {
     "data": {
      "application/vnd.jupyter.widget-view+json": {
       "model_id": "558653cc64ab4ee5a214cbee3e5fcb1d",
       "version_major": 2,
       "version_minor": 0
      },
      "text/plain": [
       "model.safetensors:   0%|          | 0.00/102M [00:00<?, ?B/s]"
      ]
     },
     "metadata": {},
     "output_type": "display_data"
    },
    {
     "name": "stdout",
     "output_type": "stream",
     "text": [
      "Không tìm thấy checkpoint tại /kaggle/working/PretrainedResnet_finetuned.pth. Bắt đầu train lại...\n",
      "\n",
      "Epoch 1/10 - Model: PretrainedResnet:\n"
     ]
    },
    {
     "name": "stderr",
     "output_type": "stream",
     "text": [
      "/usr/local/lib/python3.11/dist-packages/PIL/Image.py:1047: UserWarning: Palette images with Transparency expressed in bytes should be converted to RGBA images\n",
      "  warnings.warn(\n"
     ]
    },
    {
     "name": "stdout",
     "output_type": "stream",
     "text": [
      "Loss: 2.6181 - Accuracy: 0.2359\n",
      "  - val_loss: 1.9919\n",
      "  - val_accuracy: 0.4868\n",
      "-> Checkpoint được lưu ở /kaggle/working/PretrainedResnet_finetuned.pth\n",
      "-> Đã lưu mô hình tốt nhất accuracy: 0.4868\n",
      "\n",
      "Epoch 2/10 - Model: PretrainedResnet:\n"
     ]
    },
    {
     "name": "stderr",
     "output_type": "stream",
     "text": [
      "/usr/local/lib/python3.11/dist-packages/PIL/Image.py:1047: UserWarning: Palette images with Transparency expressed in bytes should be converted to RGBA images\n",
      "  warnings.warn(\n"
     ]
    },
    {
     "name": "stdout",
     "output_type": "stream",
     "text": [
      "Loss: 1.3238 - Accuracy: 0.6582\n",
      "  - val_loss: 0.9724\n",
      "  - val_accuracy: 0.7216\n",
      "-> Checkpoint được lưu ở /kaggle/working/PretrainedResnet_finetuned.pth\n",
      "-> Đã lưu mô hình tốt nhất accuracy: 0.7216\n",
      "\n",
      "Epoch 3/10 - Model: PretrainedResnet:\n"
     ]
    },
    {
     "name": "stderr",
     "output_type": "stream",
     "text": [
      "/usr/local/lib/python3.11/dist-packages/PIL/Image.py:1047: UserWarning: Palette images with Transparency expressed in bytes should be converted to RGBA images\n",
      "  warnings.warn(\n"
     ]
    },
    {
     "name": "stdout",
     "output_type": "stream",
     "text": [
      "Loss: 0.7322 - Accuracy: 0.7849\n",
      "  - val_loss: 0.7604\n",
      "  - val_accuracy: 0.7701\n",
      "-> Checkpoint được lưu ở /kaggle/working/PretrainedResnet_finetuned.pth\n",
      "-> Đã lưu mô hình tốt nhất accuracy: 0.7701\n",
      "\n",
      "Epoch 4/10 - Model: PretrainedResnet:\n"
     ]
    },
    {
     "name": "stderr",
     "output_type": "stream",
     "text": [
      "/usr/local/lib/python3.11/dist-packages/PIL/Image.py:1047: UserWarning: Palette images with Transparency expressed in bytes should be converted to RGBA images\n",
      "  warnings.warn(\n"
     ]
    },
    {
     "name": "stdout",
     "output_type": "stream",
     "text": [
      "Loss: 0.5174 - Accuracy: 0.8462\n",
      "  - val_loss: 0.6405\n",
      "  - val_accuracy: 0.8010\n",
      "-> Checkpoint được lưu ở /kaggle/working/PretrainedResnet_finetuned.pth\n",
      "-> Đã lưu mô hình tốt nhất accuracy: 0.8010\n",
      "\n",
      "Epoch 5/10 - Model: PretrainedResnet:\n"
     ]
    },
    {
     "name": "stderr",
     "output_type": "stream",
     "text": [
      "/usr/local/lib/python3.11/dist-packages/PIL/Image.py:1047: UserWarning: Palette images with Transparency expressed in bytes should be converted to RGBA images\n",
      "  warnings.warn(\n"
     ]
    },
    {
     "name": "stdout",
     "output_type": "stream",
     "text": [
      "Loss: 0.4151 - Accuracy: 0.8736\n",
      "  - val_loss: 0.5776\n",
      "  - val_accuracy: 0.8233\n",
      "-> Checkpoint được lưu ở /kaggle/working/PretrainedResnet_finetuned.pth\n",
      "-> Đã lưu mô hình tốt nhất accuracy: 0.8233\n",
      "\n",
      "Epoch 6/10 - Model: PretrainedResnet:\n"
     ]
    },
    {
     "name": "stderr",
     "output_type": "stream",
     "text": [
      "/usr/local/lib/python3.11/dist-packages/PIL/Image.py:1047: UserWarning: Palette images with Transparency expressed in bytes should be converted to RGBA images\n",
      "  warnings.warn(\n"
     ]
    },
    {
     "name": "stdout",
     "output_type": "stream",
     "text": [
      "Loss: 0.3298 - Accuracy: 0.9008\n",
      "  - val_loss: 0.5327\n",
      "  - val_accuracy: 0.8342\n",
      "-> Checkpoint được lưu ở /kaggle/working/PretrainedResnet_finetuned.pth\n",
      "-> Đã lưu mô hình tốt nhất accuracy: 0.8342\n",
      "\n",
      "Epoch 7/10 - Model: PretrainedResnet:\n"
     ]
    },
    {
     "name": "stderr",
     "output_type": "stream",
     "text": [
      "/usr/local/lib/python3.11/dist-packages/PIL/Image.py:1047: UserWarning: Palette images with Transparency expressed in bytes should be converted to RGBA images\n",
      "  warnings.warn(\n"
     ]
    },
    {
     "name": "stdout",
     "output_type": "stream",
     "text": [
      "Loss: 0.2683 - Accuracy: 0.9188\n",
      "  - val_loss: 0.5269\n",
      "  - val_accuracy: 0.8355\n",
      "-> Checkpoint được lưu ở /kaggle/working/PretrainedResnet_finetuned.pth\n",
      "-> Đã lưu mô hình tốt nhất accuracy: 0.8355\n",
      "\n",
      "Epoch 8/10 - Model: PretrainedResnet:\n"
     ]
    },
    {
     "name": "stderr",
     "output_type": "stream",
     "text": [
      "/usr/local/lib/python3.11/dist-packages/PIL/Image.py:1047: UserWarning: Palette images with Transparency expressed in bytes should be converted to RGBA images\n",
      "  warnings.warn(\n"
     ]
    },
    {
     "name": "stdout",
     "output_type": "stream",
     "text": [
      "Loss: 0.2158 - Accuracy: 0.9372\n",
      "  - val_loss: 0.5078\n",
      "  - val_accuracy: 0.8454\n",
      "-> Checkpoint được lưu ở /kaggle/working/PretrainedResnet_finetuned.pth\n",
      "-> Đã lưu mô hình tốt nhất accuracy: 0.8454\n",
      "\n",
      "Epoch 9/10 - Model: PretrainedResnet:\n"
     ]
    },
    {
     "name": "stderr",
     "output_type": "stream",
     "text": [
      "/usr/local/lib/python3.11/dist-packages/PIL/Image.py:1047: UserWarning: Palette images with Transparency expressed in bytes should be converted to RGBA images\n",
      "  warnings.warn(\n"
     ]
    },
    {
     "name": "stdout",
     "output_type": "stream",
     "text": [
      "Loss: 0.1825 - Accuracy: 0.9467\n",
      "  - val_loss: 0.5170\n",
      "  - val_accuracy: 0.8441\n",
      "\n",
      "Epoch 10/10 - Model: PretrainedResnet:\n"
     ]
    },
    {
     "name": "stderr",
     "output_type": "stream",
     "text": [
      "/usr/local/lib/python3.11/dist-packages/PIL/Image.py:1047: UserWarning: Palette images with Transparency expressed in bytes should be converted to RGBA images\n",
      "  warnings.warn(\n"
     ]
    },
    {
     "name": "stdout",
     "output_type": "stream",
     "text": [
      "Loss: 0.1563 - Accuracy: 0.9541\n",
      "  - val_loss: 0.4880\n",
      "  - val_accuracy: 0.8508\n",
      "-> Checkpoint được lưu ở /kaggle/working/PretrainedResnet_finetuned.pth\n",
      "-> Đã lưu mô hình tốt nhất accuracy: 0.8508\n",
      "\n",
      "==================================================\n",
      "ĐÁNH GIÁ CUỐI CÙNG\n",
      "==================================================\n",
      "\n",
      "Bảng kết quả từng lớp (total: 21 lớp):\n",
      "Class | Precision | Recall | F1-Score\n",
      "---------------------------------------------\n",
      "    0 | 0.8050     | 0.9419 | 0.8681\n",
      "    1 | 0.8003     | 0.9176 | 0.8550\n",
      "    2 | 0.9201     | 0.9170 | 0.9185\n",
      "    3 | 0.9727     | 0.7830 | 0.8676\n",
      "    4 | 0.8859     | 0.8544 | 0.8699\n",
      "    5 | 0.8333     | 0.9091 | 0.8696\n",
      "    6 | 0.8191     | 0.7518 | 0.7840\n",
      "    7 | 0.9586     | 0.9720 | 0.9653\n",
      "    8 | 0.7964     | 0.7870 | 0.7917\n",
      "    9 | 0.9314     | 0.8886 | 0.9095\n",
      "   10 | 0.8298     | 0.8478 | 0.8387\n",
      "   11 | 0.5775     | 0.6316 | 0.6034\n",
      "   12 | 0.9139     | 0.9517 | 0.9324\n",
      "   13 | 0.9574     | 0.9091 | 0.9326\n",
      "   14 | 0.8392     | 0.8280 | 0.8336\n",
      "   15 | 0.7754     | 0.7621 | 0.7687\n",
      "   16 | 0.8910     | 0.8688 | 0.8797\n",
      "   17 | 0.7984     | 0.8583 | 0.8273\n",
      "   18 | 0.7977     | 0.7727 | 0.7850\n",
      "   19 | 0.8967     | 0.9409 | 0.9183\n",
      "   20 | 0.9006     | 0.8646 | 0.8823\n"
     ]
    },
    {
     "data": {
      "image/png": "[encoded data removed]",
      "text/plain": [
       "<Figure size 1000x800 with 2 Axes>"
      ]
     },
     "metadata": {},
     "output_type": "display_data"
    },
    {
     "name": "stdout",
     "output_type": "stream",
     "text": [
      "\n",
      "Đang vẽ biểu đồ Loss và Accuracy...\n"
     ]
    },
    {
     "data": {
      "image/png": "[encoded data removed]",
      "text/plain": [
       "<Figure size 1200x400 with 2 Axes>"
      ]
     },
     "metadata": {},
     "output_type": "display_data"
    },
    {
     "data": {
      "text/plain": [
       "<Figure size 640x480 with 0 Axes>"
      ]
     },
     "metadata": {},
     "output_type": "display_data"
    }
   ],
   "source": [
    "import sys\n",
    "sys.path.insert(0, '/kaggle/working/dl')\n",
    "%run /kaggle/working/dl/main.py"
   ]
  }
 ],
 "metadata": {
  "kaggle": {
   "accelerator": "gpu",
   "dataSources": [
    {
     "datasetId": 8539588,
     "sourceId": 13453298,
     "sourceType": "datasetVersion"
    }
   ],
   "dockerImageVersionId": 31153,
   "isGpuEnabled": true,
   "isInternetEnabled": true,
   "language": "python",
   "sourceType": "notebook"
  },
  "kernelspec": {
   "display_name": "Python 3",
   "language": "python",
   "name": "python3"
  },
  "language_info": {
   "codemirror_mode": {
    "name": "ipython",
    "version": 3
   },
   "file_extension": ".py",
   "mimetype": "text/x-python",
   "name": "python",
   "nbconvert_exporter": "python",
   "pygments_lexer": "ipython3",
   "version": "3.11.13"
  },
  "papermill": {
   "default_parameters": {},
   "duration": 3574.531931,
   "end_time": "2025-10-30T15:20:47.703912",
   "environment_variables": {},
   "exception": null,
   "input_path": "__notebook__.ipynb",
   "output_path": "__notebook__.ipynb",
   "parameters": {},
   "start_time": "2025-10-30T14:21:13.171981",
   "version": "2.6.0"
  },
  "widgets": {
   "application/vnd.jupyter.widget-state+json": {
    "state": {
     "0467d7aa25584f239a3b4e5e31c4146a": {
      "model_module": "@jupyter-widgets/controls",
      "model_module_version": "2.0.0",
      "model_name": "ProgressStyleModel",
      "state": {
       "_model_module": "@jupyter-widgets/controls",
       "_model_module_version": "2.0.0",
       "_model_name": "ProgressStyleModel",
       "_view_count": null,
       "_view_module": "@jupyter-widgets/base",
       "_view_module_version": "2.0.0",
       "_view_name": "StyleView",
       "bar_color": null,
       "description_width": ""
      }
     },
     "0bc53056f24742b3b3ba3487cf128ee5": {
      "model_module": "@jupyter-widgets/controls",
      "model_module_version": "2.0.0",
      "model_name": "FloatProgressModel",
      "state": {
       "_dom_classes": [],
       "_model_module": "@jupyter-widgets/controls",
       "_model_module_version": "2.0.0",
       "_model_name": "FloatProgressModel",
       "_view_count": null,
       "_view_module": "@jupyter-widgets/controls",
       "_view_module_version": "2.0.0",
       "_view_name": "ProgressView",
       "bar_style": "success",
       "description": "",
       "description_allow_html": false,
       "layout": "IPY_MODEL_80d3b33d22434b42acaa25bdce0cd1a8",
       "max": 1,
       "min": 0,
       "orientation": "horizontal",
       "style": "IPY_MODEL_1ad7f2a5d73f4e0b9944d80eaa855337",
       "tabbable": null,
       "tooltip": null,
       "value": 1
      }
     },
     "1858e4bd7cc04c249eada156163b9814": {
      "model_module": "@jupyter-widgets/base",
      "model_module_version": "2.0.0",
      "model_name": "LayoutModel",
      "state": {
       "_model_module": "@jupyter-widgets/base",
       "_model_module_version": "2.0.0",
       "_model_name": "LayoutModel",
       "_view_count": null,
       "_view_module": "@jupyter-widgets/base",
       "_view_module_version": "2.0.0",
       "_view_name": "LayoutView",
       "align_content": null,
       "align_items": null,
       "align_self": null,
       "border_bottom": null,
       "border_left": null,
       "border_right": null,
       "border_top": null,
       "bottom": null,
       "display": null,
       "flex": null,
       "flex_flow": null,
       "grid_area": null,
       "grid_auto_columns": null,
       "grid_auto_flow": null,
       "grid_auto_rows": null,
       "grid_column": null,
       "grid_gap": null,
       "grid_row": null,
       "grid_template_areas": null,
       "grid_template_columns": null,
       "grid_template_rows": null,
       "height": null,
       "justify_content": null,
       "justify_items": null,
       "left": null,
       "margin": null,
       "max_height": null,
       "max_width": null,
       "min_height": null,
       "min_width": null,
       "object_fit": null,
       "object_position": null,
       "order": null,
       "overflow": null,
       "padding": null,
       "right": null,
       "top": null,
       "visibility": null,
       "width": null
      }
     },
     "1ad7f2a5d73f4e0b9944d80eaa855337": {
      "model_module": "@jupyter-widgets/controls",
      "model_module_version": "2.0.0",
      "model_name": "ProgressStyleModel",
      "state": {
       "_model_module": "@jupyter-widgets/controls",
       "_model_module_version": "2.0.0",
       "_model_name": "ProgressStyleModel",
       "_view_count": null,
       "_view_module": "@jupyter-widgets/base",
       "_view_module_version": "2.0.0",
       "_view_name": "StyleView",
       "bar_color": null,
       "description_width": ""
      }
     },
     "1fd4049760174fc9999f42250cb5d34e": {
      "model_module": "@jupyter-widgets/base",
      "model_module_version": "2.0.0",
      "model_name": "LayoutModel",
      "state": {
       "_model_module": "@jupyter-widgets/base",
       "_model_module_version": "2.0.0",
       "_model_name": "LayoutModel",
       "_view_count": null,
       "_view_module": "@jupyter-widgets/base",
       "_view_module_version": "2.0.0",
       "_view_name": "LayoutView",
       "align_content": null,
       "align_items": null,
       "align_self": null,
       "border_bottom": null,
       "border_left": null,
       "border_right": null,
       "border_top": null,
       "bottom": null,
       "display": null,
       "flex": null,
       "flex_flow": null,
       "grid_area": null,
       "grid_auto_columns": null,
       "grid_auto_flow": null,
       "grid_auto_rows": null,
       "grid_column": null,
       "grid_gap": null,
       "grid_row": null,
       "grid_template_areas": null,
       "grid_template_columns": null,
       "grid_template_rows": null,
       "height": null,
       "justify_content": null,
       "justify_items": null,
       "left": null,
       "margin": null,
       "max_height": null,
       "max_width": null,
       "min_height": null,
       "min_width": null,
       "object_fit": null,
       "object_position": null,
       "order": null,
       "overflow": null,
       "padding": null,
       "right": null,
       "top": null,
       "visibility": null,
       "width": null
      }
     },
     "321efbb0d0344a809362f513f462eacf": {
      "model_module": "@jupyter-widgets/controls",
      "model_module_version": "2.0.0",
      "model_name": "HTMLModel",
      "state": {
       "_dom_classes": [],
       "_model_module": "@jupyter-widgets/controls",
       "_model_module_version": "2.0.0",
       "_model_name": "HTMLModel",
       "_view_count": null,
       "_view_module": "@jupyter-widgets/controls",
       "_view_module_version": "2.0.0",
       "_view_name": "HTMLView",
       "description": "",
       "description_allow_html": false,
       "layout": "IPY_MODEL_1858e4bd7cc04c249eada156163b9814",
       "placeholder": "​",
       "style": "IPY_MODEL_ddc3ff1a29d9420c90c44c9c23786250",
       "tabbable": null,
       "tooltip": null,
       "value": "model.safetensors: 100%"
      }
     },
     "3dc05f9d79a344fb9dd21ecdfe3b73a5": {
      "model_module": "@jupyter-widgets/base",
      "model_module_version": "2.0.0",
      "model_name": "LayoutModel",
      "state": {
       "_model_module": "@jupyter-widgets/base",
       "_model_module_version": "2.0.0",
       "_model_name": "LayoutModel",
       "_view_count": null,
       "_view_module": "@jupyter-widgets/base",
       "_view_module_version": "2.0.0",
       "_view_name": "LayoutView",
       "align_content": null,
       "align_items": null,
       "align_self": null,
       "border_bottom": null,
       "border_left": null,
       "border_right": null,
       "border_top": null,
       "bottom": null,
       "display": null,
       "flex": null,
       "flex_flow": null,
       "grid_area": null,
       "grid_auto_columns": null,
       "grid_auto_flow": null,
       "grid_auto_rows": null,
       "grid_column": null,
       "grid_gap": null,
       "grid_row": null,
       "grid_template_areas": null,
       "grid_template_columns": null,
       "grid_template_rows": null,
       "height": null,
       "justify_content": null,
       "justify_items": null,
       "left": null,
       "margin": null,
       "max_height": null,
       "max_width": null,
       "min_height": null,
       "min_width": null,
       "object_fit": null,
       "object_position": null,
       "order": null,
       "overflow": null,
       "padding": null,
       "right": null,
       "top": null,
       "visibility": null,
       "width": null
      }
     },
     "541eee77197b4b0a9fae1c0d1661e10f": {
      "model_module": "@jupyter-widgets/base",
      "model_module_version": "2.0.0",
      "model_name": "LayoutModel",
      "state": {
       "_model_module": "@jupyter-widgets/base",
       "_model_module_version": "2.0.0",
       "_model_name": "LayoutModel",
       "_view_count": null,
       "_view_module": "@jupyter-widgets/base",
       "_view_module_version": "2.0.0",
       "_view_name": "LayoutView",
       "align_content": null,
       "align_items": null,
       "align_self": null,
       "border_bottom": null,
       "border_left": null,
       "border_right": null,
       "border_top": null,
       "bottom": null,
       "display": null,
       "flex": null,
       "flex_flow": null,
       "grid_area": null,
       "grid_auto_columns": null,
       "grid_auto_flow": null,
       "grid_auto_rows": null,
       "grid_column": null,
       "grid_gap": null,
       "grid_row": null,
       "grid_template_areas": null,
       "grid_template_columns": null,
       "grid_template_rows": null,
       "height": null,
       "justify_content": null,
       "justify_items": null,
       "left": null,
       "margin": null,
       "max_height": null,
       "max_width": null,
       "min_height": null,
       "min_width": null,
       "object_fit": null,
       "object_position": null,
       "order": null,
       "overflow": null,
       "padding": null,
       "right": null,
       "top": null,
       "visibility": null,
       "width": null
      }
     },
     "558653cc64ab4ee5a214cbee3e5fcb1d": {
      "model_module": "@jupyter-widgets/controls",
      "model_module_version": "2.0.0",
      "model_name": "HBoxModel",
      "state": {
       "_dom_classes": [],
       "_model_module": "@jupyter-widgets/controls",
       "_model_module_version": "2.0.0",
       "_model_name": "HBoxModel",
       "_view_count": null,
       "_view_module": "@jupyter-widgets/controls",
       "_view_module_version": "2.0.0",
       "_view_name": "HBoxView",
       "box_style": "",
       "children": [
        "IPY_MODEL_321efbb0d0344a809362f513f462eacf",
        "IPY_MODEL_679bb4ee0c314bd0b52ad44a664cd743",
        "IPY_MODEL_ac6fd05c02ec47a38062e4d7fb4cda3f"
       ],
       "layout": "IPY_MODEL_1fd4049760174fc9999f42250cb5d34e",
       "tabbable": null,
       "tooltip": null
      }
     },
     "59c5774f678043d69630a39e697d2e11": {
      "model_module": "@jupyter-widgets/controls",
      "model_module_version": "2.0.0",
      "model_name": "HBoxModel",
      "state": {
       "_dom_classes": [],
       "_model_module": "@jupyter-widgets/controls",
       "_model_module_version": "2.0.0",
       "_model_name": "HBoxModel",
       "_view_count": null,
       "_view_module": "@jupyter-widgets/controls",
       "_view_module_version": "2.0.0",
       "_view_name": "HBoxView",
       "box_style": "",
       "children": [
        "IPY_MODEL_9bc7f5428af840fd84a9032c6556b2fc",
        "IPY_MODEL_0bc53056f24742b3b3ba3487cf128ee5",
        "IPY_MODEL_8cb8357161d04c7e9df510b336e57afa"
       ],
       "layout": "IPY_MODEL_e26145e22fd44bed9aaff3a407540c34",
       "tabbable": null,
       "tooltip": null
      }
     },
     "679bb4ee0c314bd0b52ad44a664cd743": {
      "model_module": "@jupyter-widgets/controls",
      "model_module_version": "2.0.0",
      "model_name": "FloatProgressModel",
      "state": {
       "_dom_classes": [],
       "_model_module": "@jupyter-widgets/controls",
       "_model_module_version": "2.0.0",
       "_model_name": "FloatProgressModel",
       "_view_count": null,
       "_view_module": "@jupyter-widgets/controls",
       "_view_module_version": "2.0.0",
       "_view_name": "ProgressView",
       "bar_style": "success",
       "description": "",
       "description_allow_html": false,
       "layout": "IPY_MODEL_3dc05f9d79a344fb9dd21ecdfe3b73a5",
       "max": 102482854,
       "min": 0,
       "orientation": "horizontal",
       "style": "IPY_MODEL_0467d7aa25584f239a3b4e5e31c4146a",
       "tabbable": null,
       "tooltip": null,
       "value": 102482854
      }
     },
     "77ddb403d2f14ba4a4ee6927cb5ffad7": {
      "model_module": "@jupyter-widgets/controls",
      "model_module_version": "2.0.0",
      "model_name": "HTMLStyleModel",
      "state": {
       "_model_module": "@jupyter-widgets/controls",
       "_model_module_version": "2.0.0",
       "_model_name": "HTMLStyleModel",
       "_view_count": null,
       "_view_module": "@jupyter-widgets/base",
       "_view_module_version": "2.0.0",
       "_view_name": "StyleView",
       "background": null,
       "description_width": "",
       "font_size": null,
       "text_color": null
      }
     },
     "80d3b33d22434b42acaa25bdce0cd1a8": {
      "model_module": "@jupyter-widgets/base",
      "model_module_version": "2.0.0",
      "model_name": "LayoutModel",
      "state": {
       "_model_module": "@jupyter-widgets/base",
       "_model_module_version": "2.0.0",
       "_model_name": "LayoutModel",
       "_view_count": null,
       "_view_module": "@jupyter-widgets/base",
       "_view_module_version": "2.0.0",
       "_view_name": "LayoutView",
       "align_content": null,
       "align_items": null,
       "align_self": null,
       "border_bottom": null,
       "border_left": null,
       "border_right": null,
       "border_top": null,
       "bottom": null,
       "display": null,
       "flex": null,
       "flex_flow": null,
       "grid_area": null,
       "grid_auto_columns": null,
       "grid_auto_flow": null,
       "grid_auto_rows": null,
       "grid_column": null,
       "grid_gap": null,
       "grid_row": null,
       "grid_template_areas": null,
       "grid_template_columns": null,
       "grid_template_rows": null,
       "height": null,
       "justify_content": null,
       "justify_items": null,
       "left": null,
       "margin": null,
       "max_height": null,
       "max_width": null,
       "min_height": null,
       "min_width": null,
       "object_fit": null,
       "object_position": null,
       "order": null,
       "overflow": null,
       "padding": null,
       "right": null,
       "top": null,
       "visibility": null,
       "width": "20px"
      }
     },
     "8477e8870cd34a97b82bc4d4285cb12b": {
      "model_module": "@jupyter-widgets/base",
      "model_module_version": "2.0.0",
      "model_name": "LayoutModel",
      "state": {
       "_model_module": "@jupyter-widgets/base",
       "_model_module_version": "2.0.0",
       "_model_name": "LayoutModel",
       "_view_count": null,
       "_view_module": "@jupyter-widgets/base",
       "_view_module_version": "2.0.0",
       "_view_name": "LayoutView",
       "align_content": null,
       "align_items": null,
       "align_self": null,
       "border_bottom": null,
       "border_left": null,
       "border_right": null,
       "border_top": null,
       "bottom": null,
       "display": null,
       "flex": null,
       "flex_flow": null,
       "grid_area": null,
       "grid_auto_columns": null,
       "grid_auto_flow": null,
       "grid_auto_rows": null,
       "grid_column": null,
       "grid_gap": null,
       "grid_row": null,
       "grid_template_areas": null,
       "grid_template_columns": null,
       "grid_template_rows": null,
       "height": null,
       "justify_content": null,
       "justify_items": null,
       "left": null,
       "margin": null,
       "max_height": null,
       "max_width": null,
       "min_height": null,
       "min_width": null,
       "object_fit": null,
       "object_position": null,
       "order": null,
       "overflow": null,
       "padding": null,
       "right": null,
       "top": null,
       "visibility": null,
       "width": null
      }
     },
     "8cb8357161d04c7e9df510b336e57afa": {
      "model_module": "@jupyter-widgets/controls",
      "model_module_version": "2.0.0",
      "model_name": "HTMLModel",
      "state": {
       "_dom_classes": [],
       "_model_module": "@jupyter-widgets/controls",
       "_model_module_version": "2.0.0",
       "_model_name": "HTMLModel",
       "_view_count": null,
       "_view_module": "@jupyter-widgets/controls",
       "_view_module_version": "2.0.0",
       "_view_name": "HTMLView",
       "description": "",
       "description_allow_html": false,
       "layout": "IPY_MODEL_541eee77197b4b0a9fae1c0d1661e10f",
       "placeholder": "​",
       "style": "IPY_MODEL_b3fe58daeb204004a371764129938e36",
       "tabbable": null,
       "tooltip": null,
       "value": " 69.6k/? [00:00&lt;00:00, 5.24MB/s]"
      }
     },
     "99e87ab35b454631931bb6be0c056ed2": {
      "model_module": "@jupyter-widgets/base",
      "model_module_version": "2.0.0",
      "model_name": "LayoutModel",
      "state": {
       "_model_module": "@jupyter-widgets/base",
       "_model_module_version": "2.0.0",
       "_model_name": "LayoutModel",
       "_view_count": null,
       "_view_module": "@jupyter-widgets/base",
       "_view_module_version": "2.0.0",
       "_view_name": "LayoutView",
       "align_content": null,
       "align_items": null,
       "align_self": null,
       "border_bottom": null,
       "border_left": null,
       "border_right": null,
       "border_top": null,
       "bottom": null,
       "display": null,
       "flex": null,
       "flex_flow": null,
       "grid_area": null,
       "grid_auto_columns": null,
       "grid_auto_flow": null,
       "grid_auto_rows": null,
       "grid_column": null,
       "grid_gap": null,
       "grid_row": null,
       "grid_template_areas": null,
       "grid_template_columns": null,
       "grid_template_rows": null,
       "height": null,
       "justify_content": null,
       "justify_items": null,
       "left": null,
       "margin": null,
       "max_height": null,
       "max_width": null,
       "min_height": null,
       "min_width": null,
       "object_fit": null,
       "object_position": null,
       "order": null,
       "overflow": null,
       "padding": null,
       "right": null,
       "top": null,
       "visibility": null,
       "width": null
      }
     },
     "9bc7f5428af840fd84a9032c6556b2fc": {
      "model_module": "@jupyter-widgets/controls",
      "model_module_version": "2.0.0",
      "model_name": "HTMLModel",
      "state": {
       "_dom_classes": [],
       "_model_module": "@jupyter-widgets/controls",
       "_model_module_version": "2.0.0",
       "_model_name": "HTMLModel",
       "_view_count": null,
       "_view_module": "@jupyter-widgets/controls",
       "_view_module_version": "2.0.0",
       "_view_name": "HTMLView",
       "description": "",
       "description_allow_html": false,
       "layout": "IPY_MODEL_99e87ab35b454631931bb6be0c056ed2",
       "placeholder": "​",
       "style": "IPY_MODEL_77ddb403d2f14ba4a4ee6927cb5ffad7",
       "tabbable": null,
       "tooltip": null,
       "value": "config.json: "
      }
     },
     "ac6fd05c02ec47a38062e4d7fb4cda3f": {
      "model_module": "@jupyter-widgets/controls",
      "model_module_version": "2.0.0",
      "model_name": "HTMLModel",
      "state": {
       "_dom_classes": [],
       "_model_module": "@jupyter-widgets/controls",
       "_model_module_version": "2.0.0",
       "_model_name": "HTMLModel",
       "_view_count": null,
       "_view_module": "@jupyter-widgets/controls",
       "_view_module_version": "2.0.0",
       "_view_name": "HTMLView",
       "description": "",
       "description_allow_html": false,
       "layout": "IPY_MODEL_8477e8870cd34a97b82bc4d4285cb12b",
       "placeholder": "​",
       "style": "IPY_MODEL_f370a2a08c26428da5cc477cee282173",
       "tabbable": null,
       "tooltip": null,
       "value": " 102M/102M [00:01&lt;00:00, 94.0MB/s]"
      }
     },
     "b3fe58daeb204004a371764129938e36": {
      "model_module": "@jupyter-widgets/controls",
      "model_module_version": "2.0.0",
      "model_name": "HTMLStyleModel",
      "state": {
       "_model_module": "@jupyter-widgets/controls",
       "_model_module_version": "2.0.0",
       "_model_name": "HTMLStyleModel",
       "_view_count": null,
       "_view_module": "@jupyter-widgets/base",
       "_view_module_version": "2.0.0",
       "_view_name": "StyleView",
       "background": null,
       "description_width": "",
       "font_size": null,
       "text_color": null
      }
     },
     "ddc3ff1a29d9420c90c44c9c23786250": {
      "model_module": "@jupyter-widgets/controls",
      "model_module_version": "2.0.0",
      "model_name": "HTMLStyleModel",
      "state": {
       "_model_module": "@jupyter-widgets/controls",
       "_model_module_version": "2.0.0",
       "_model_name": "HTMLStyleModel",
       "_view_count": null,
       "_view_module": "@jupyter-widgets/base",
       "_view_module_version": "2.0.0",
       "_view_name": "StyleView",
       "background": null,
       "description_width": "",
       "font_size": null,
       "text_color": null
      }
     },
     "e26145e22fd44bed9aaff3a407540c34": {
      "model_module": "@jupyter-widgets/base",
      "model_module_version": "2.0.0",
      "model_name": "LayoutModel",
      "state": {
       "_model_module": "@jupyter-widgets/base",
       "_model_module_version": "2.0.0",
       "_model_name": "LayoutModel",
       "_view_count": null,
       "_view_module": "@jupyter-widgets/base",
       "_view_module_version": "2.0.0",
       "_view_name": "LayoutView",
       "align_content": null,
       "align_items": null,
       "align_self": null,
       "border_bottom": null,
       "border_left": null,
       "border_right": null,
       "border_top": null,
       "bottom": null,
       "display": null,
       "flex": null,
       "flex_flow": null,
       "grid_area": null,
       "grid_auto_columns": null,
       "grid_auto_flow": null,
       "grid_auto_rows": null,
       "grid_column": null,
       "grid_gap": null,
       "grid_row": null,
       "grid_template_areas": null,
       "grid_template_columns": null,
       "grid_template_rows": null,
       "height": null,
       "justify_content": null,
       "justify_items": null,
       "left": null,
       "margin": null,
       "max_height": null,
       "max_width": null,
       "min_height": null,
       "min_width": null,
       "object_fit": null,
       "object_position": null,
       "order": null,
       "overflow": null,
       "padding": null,
       "right": null,
       "top": null,
       "visibility": null,
       "width": null
      }
     },
     "f370a2a08c26428da5cc477cee282173": {
      "model_module": "@jupyter-widgets/controls",
      "model_module_version": "2.0.0",
      "model_name": "HTMLStyleModel",
      "state": {
       "_model_module": "@jupyter-widgets/controls",
       "_model_module_version": "2.0.0",
       "_model_name": "HTMLStyleModel",
       "_view_count": null,
       "_view_module": "@jupyter-widgets/base",
       "_view_module_version": "2.0.0",
       "_view_name": "StyleView",
       "background": null,
       "description_width": "",
       "font_size": null,
       "text_color": null
      }
     }
    },
    "version_major": 2,
    "version_minor": 0
   }
  }
 },
 "nbformat": 4,
 "nbformat_minor": 5
}
